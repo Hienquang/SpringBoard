{
 "cells": [
  {
   "cell_type": "markdown",
   "metadata": {},
   "source": [
    "# SQL Tasks - Part 2"
   ]
  },
  {
   "cell_type": "code",
   "execution_count": 74,
   "metadata": {},
   "outputs": [],
   "source": [
    "import sqlite3\n",
    "import pandas as pd"
   ]
  },
  {
   "cell_type": "code",
   "execution_count": 52,
   "metadata": {},
   "outputs": [],
   "source": [
    "#connect to a database\n",
    "conn = sqlite3.connect('sqlite_db_pythonsqlite.db')"
   ]
  },
  {
   "cell_type": "code",
   "execution_count": 53,
   "metadata": {},
   "outputs": [],
   "source": [
    "#create a cursor object\n",
    "cur = conn.cursor()"
   ]
  },
  {
   "cell_type": "code",
   "execution_count": 54,
   "metadata": {},
   "outputs": [
    {
     "data": {
      "text/plain": [
       "[('Bookings',), ('Facilities',), ('Members',)]"
      ]
     },
     "execution_count": 54,
     "metadata": {},
     "output_type": "execute_result"
    }
   ],
   "source": [
    "#list the tables in the database\n",
    "cur.execute(\"SELECT name FROM sqlite_master WHERE type = 'table'\").fetchall()"
   ]
  },
  {
   "cell_type": "code",
   "execution_count": 55,
   "metadata": {},
   "outputs": [
    {
     "name": "stdout",
     "output_type": "stream",
     "text": [
      "(0, 'bookid', 'int(4)', 1, \"'0'\", 1)\n",
      "(1, 'facid', 'int(1)', 0, 'NULL', 0)\n",
      "(2, 'memid', 'int(2)', 0, 'NULL', 0)\n",
      "(3, 'starttime', 'varchar(19)', 0, 'NULL', 0)\n",
      "(4, 'slots', 'int(2)', 0, 'NULL', 0)\n"
     ]
    }
   ],
   "source": [
    "#list columns in a Bookings table\n",
    "for row in cur.execute(\"PRAGMA table_info(Bookings)\"):\n",
    "    print(row)"
   ]
  },
  {
   "cell_type": "code",
   "execution_count": 56,
   "metadata": {},
   "outputs": [
    {
     "name": "stdout",
     "output_type": "stream",
     "text": [
      "(0, 'facid', 'int(1)', 1, \"'0'\", 1)\n",
      "(1, 'name', 'varchar(15)', 0, 'NULL', 0)\n",
      "(2, 'membercost', 'decimal(2,1)', 0, 'NULL', 0)\n",
      "(3, 'guestcost', 'decimal(3,1)', 0, 'NULL', 0)\n",
      "(4, 'initialoutlay', 'int(5)', 0, 'NULL', 0)\n",
      "(5, 'monthlymaintenance', 'int(4)', 0, 'NULL', 0)\n"
     ]
    }
   ],
   "source": [
    "#list columns in a Bookings table\n",
    "for row in cur.execute(\"PRAGMA table_info(Facilities)\"):\n",
    "    print(row)"
   ]
  },
  {
   "cell_type": "code",
   "execution_count": 57,
   "metadata": {
    "scrolled": true
   },
   "outputs": [
    {
     "name": "stdout",
     "output_type": "stream",
     "text": [
      "(0, 'memid', 'int(2)', 1, \"'0'\", 1)\n",
      "(1, 'surname', 'varchar(17)', 0, 'NULL', 0)\n",
      "(2, 'firstname', 'varchar(9)', 0, 'NULL', 0)\n",
      "(3, 'address', 'varchar(39)', 0, 'NULL', 0)\n",
      "(4, 'zipcode', 'int(5)', 0, 'NULL', 0)\n",
      "(5, 'telephone', 'varchar(14)', 0, 'NULL', 0)\n",
      "(6, 'recommendedby', 'varchar(2)', 0, 'NULL', 0)\n",
      "(7, 'joindate', 'varchar(19)', 0, 'NULL', 0)\n"
     ]
    }
   ],
   "source": [
    "#list columns in a Bookings table\n",
    "for row in cur.execute(\"PRAGMA table_info(Members)\"):\n",
    "    print(row)"
   ]
  },
  {
   "cell_type": "markdown",
   "metadata": {},
   "source": [
    "## Answer questions"
   ]
  },
  {
   "cell_type": "markdown",
   "metadata": {},
   "source": [
    "Q10: Produce a list of facilities with a total revenue less than 1000.\n",
    "The output of facility name and total revenue, sorted by revenue. Remember\n",
    "that there's a different cost for guests and members!"
   ]
  },
  {
   "cell_type": "code",
   "execution_count": 77,
   "metadata": {},
   "outputs": [
    {
     "name": "stdout",
     "output_type": "stream",
     "text": [
      "              name  revenue\n",
      "0  Badminton Court    604.5\n",
      "1     Table Tennis     90.0\n",
      "2    Snooker Table    115.0\n",
      "3       Pool Table    265.0\n"
     ]
    }
   ],
   "source": [
    "cur.execute(\"SELECT sub.name, SUM(sub.revenue) AS revenue FROM (SELECT b.facid, b.memid, f.name, f.guestcost, f.membercost, COUNT(b.facid) AS facid_count, CASE WHEN b.memid =0 THEN COUNT(b.facid)*f.guestcost ELSE COUNT(b.facid)*f.membercost END AS 'revenue' FROM Bookings AS b LEFT JOIN Facilities AS f USING (facid) GROUP BY b.facid, b.memid) AS sub GROUP BY sub.facid HAVING revenue <=1000\")\n",
    "Q10 = cur.fetchall()\n",
    "Q10_columns = ['name', 'revenue']\n",
    "Q10_df = pd.DataFrame (Q10, columns = Q10_columns)\n",
    "print(Q10_df)"
   ]
  },
  {
   "cell_type": "markdown",
   "metadata": {},
   "source": [
    "Q11: Produce a report of members and who recommended them in alphabetic surname,firstname order"
   ]
  },
  {
   "cell_type": "code",
   "execution_count": 78,
   "metadata": {},
   "outputs": [
    {
     "name": "stdout",
     "output_type": "stream",
     "text": [
      "            last name  firstname       Recommender\n",
      "0               Bader   Florence    PonderStibbons\n",
      "1               Baker       Anne    PonderStibbons\n",
      "2               Baker    Timothy     JemimaFarrell\n",
      "3              Boothe        Tim         TimRownam\n",
      "4             Butters     Gerald       DarrenSmith\n",
      "5              Coplin       Joan      TimothyBaker\n",
      "6             Crumpet      Erica        TracySmith\n",
      "7                Dare      Nancy    JaniceJoplette\n",
      "8             Farrell      David              None\n",
      "9             Farrell     Jemima              None\n",
      "10              GUEST      GUEST              None\n",
      "11            Genting    Matthew     GeraldButters\n",
      "12               Hunt       John  MillicentPurview\n",
      "13              Jones      David    JaniceJoplette\n",
      "14              Jones    Douglas        DavidJones\n",
      "15           Joplette     Janice       DarrenSmith\n",
      "16          Mackenzie       Anna       DarrenSmith\n",
      "17               Owen    Charles       DarrenSmith\n",
      "18             Pinker      David     JemimaFarrell\n",
      "19            Purview  Millicent        TracySmith\n",
      "20             Rownam        Tim              None\n",
      "21             Rumney  Henrietta    MatthewGenting\n",
      "22             Sarwin  Ramnaresh     FlorenceBader\n",
      "23              Smith     Darren              None\n",
      "24              Smith     Darren              None\n",
      "25              Smith       Jack       DarrenSmith\n",
      "26              Smith      Tracy              None\n",
      "27           Stibbons     Ponder       BurtonTracy\n",
      "28              Tracy     Burton              None\n",
      "29         Tupperware   Hyacinth              None\n",
      "30  Worthington-Smyth      Henry        TracySmith\n"
     ]
    }
   ],
   "source": [
    "cur.execute('SELECT m.surname, m.firstname, (r.firstname || r.surname) AS \"Recommender\"FROM Members AS m LEFT JOIN Members AS r ON m.recommendedby = r.memid WHERE m.recommendedby != 0 ORDER BY m.surname, m.firstname')\n",
    "Q11 = cur.fetchall()\n",
    "Q11_columns = ['last name', 'firstname', 'Recommender']\n",
    "Q11_df = pd.DataFrame (Q11, columns = Q11_columns)\n",
    "print(Q11_df)"
   ]
  },
  {
   "cell_type": "markdown",
   "metadata": {},
   "source": [
    "Q12: Find the facilities with their usage by member, but not guests"
   ]
  },
  {
   "cell_type": "code",
   "execution_count": 79,
   "metadata": {
    "scrolled": true
   },
   "outputs": [
    {
     "name": "stdout",
     "output_type": "stream",
     "text": [
      "              name  member usage\n",
      "0   Tennis Court 1           308\n",
      "1   Tennis Court 2           276\n",
      "2  Badminton Court           344\n",
      "3     Table Tennis           385\n",
      "4   Massage Room 1           421\n",
      "5   Massage Room 2            27\n",
      "6     Squash Court           195\n",
      "7    Snooker Table           421\n",
      "8       Pool Table           783\n"
     ]
    }
   ],
   "source": [
    "cur.execute(\"SELECT f.name, COUNT(b.memid) AS mem_usage FROM (SELECT facid, memid FROM Bookings WHERE memid !=0) AS b LEFT JOIN Facilities AS f USING (facid) GROUP BY b.facid;\")\n",
    "Q12 = cur.fetchall()\n",
    "Q12_columns = ['name', 'member usage']\n",
    "Q12_df = pd.DataFrame (Q12, columns = Q12_columns)\n",
    "print(Q12_df)"
   ]
  },
  {
   "cell_type": "markdown",
   "metadata": {},
   "source": [
    "Q13: Find the facilities usage by month, but not guests"
   ]
  },
  {
   "cell_type": "code",
   "execution_count": 80,
   "metadata": {},
   "outputs": [
    {
     "name": "stdout",
     "output_type": "stream",
     "text": [
      "  month  member usage\n",
      "0    07           480\n",
      "1    08          1168\n",
      "2    09          1512\n"
     ]
    }
   ],
   "source": [
    "cur.execute(\"SELECT b.months, COUNT( b.memid ) AS mem_usage FROM (SELECT strftime('%m', starttime) AS months, memid FROM Bookings WHERE memid !=0) AS b GROUP BY b.months\")\n",
    "Q13 = cur.fetchall()\n",
    "Q13_columns = ['month', 'member usage']\n",
    "Q13_df = pd.DataFrame (Q13, columns = Q13_columns)\n",
    "print(Q13_df)"
   ]
  },
  {
   "cell_type": "code",
   "execution_count": 50,
   "metadata": {},
   "outputs": [],
   "source": [
    "#close connection\n",
    "cur.close\n",
    "conn.close()"
   ]
  }
 ],
 "metadata": {
  "kernelspec": {
   "display_name": "Python 3",
   "language": "python",
   "name": "python3"
  },
  "language_info": {
   "codemirror_mode": {
    "name": "ipython",
    "version": 3
   },
   "file_extension": ".py",
   "mimetype": "text/x-python",
   "name": "python",
   "nbconvert_exporter": "python",
   "pygments_lexer": "ipython3",
   "version": "3.8.5"
  }
 },
 "nbformat": 4,
 "nbformat_minor": 4
}
