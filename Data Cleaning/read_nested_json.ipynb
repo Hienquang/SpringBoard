{
 "cells": [
  {
   "cell_type": "code",
   "execution_count": null,
   "metadata": {},
   "outputs": [],
   "source": [
    "import pandas as pd\n",
    "import json\n",
    "from datetime import datetime"
   ]
  },
  {
   "cell_type": "code",
   "execution_count": null,
   "metadata": {},
   "outputs": [],
   "source": [
    "def flatten_json(nested_json):\n",
    "    \"\"\"\n",
    "        Flatten json object with nested keys into a single level.\n",
    "        Args:\n",
    "            nested_json: A nested json object.\n",
    "        Returns:\n",
    "            The flattened json object if successful, None otherwise.\n",
    "    \"\"\"\n",
    "#\n",
    "# from https://towardsdatascience.com/how-to-flatten-deeply-nested-json-objects-in-non-recursive-elegant-python-55f96533103d\n",
    "#\n",
    "    out = {}\n",
    "\n",
    "    def flatten(x, name=''):\n",
    "        if type(x) is dict:\n",
    "            for a in x:\n",
    "                flatten(x[a], name + a + '_')\n",
    "        elif type(x) is list:\n",
    "            i = 0\n",
    "            for a in x:\n",
    "                flatten(a, name + str(i) + '_')\n",
    "                i += 1\n",
    "        else:\n",
    "            out[name[:-1]] = x\n",
    "\n",
    "    flatten(nested_json)\n",
    "    return out"
   ]
  },
  {
   "cell_type": "code",
   "execution_count": null,
   "metadata": {},
   "outputs": [],
   "source": [
    "#\n",
    "# read and convert data\n",
    "#\n",
    "convert_line = lambda x: pd.Series(flatten_json(json.loads(x))).to_frame().T\n",
    "e = None # flag for error and eof\n",
    "file = open('recipeitems-latest_drop_records.json', 'r')\n",
    "#\n",
    "# the raw data were found to have variable columns in the records\n",
    "# this allocates a fixed set of columns to speed things up\n",
    "#\n",
    "recipes = pd.DataFrame(columns = \n",
    "                       ['_id_$oid', 'name', 'ingredients', 'url', 'image', 'ts_$date',\n",
    "                        'datePublished', 'source', 'recipeYield', 'prepTime', 'description',\n",
    "                        'cookTime', 'totalTime', 'creator', 'recipeCategory', 'dateModified',\n",
    "                        'recipeInstructions_0'])\n",
    "temp_recipes = []\n",
    "my_time = datetime.now()\n",
    "lines = -1\n",
    "while e == None:\n",
    "    lines += 1\n",
    "    if lines % 5000 == 0:\n",
    "        print('loaded ', lines, ' lines')\n",
    "    try:\n",
    "        line = file.readline()\n",
    "        if line == '':\n",
    "            e = 'stop'\n",
    "        else:\n",
    "#\n",
    "# this ensures each record is the same width, so we can use list append in the loop\n",
    "#\n",
    "            temp =  recipes.append(convert_line(line), ignore_index = True)\n",
    "            temp_recipes.append(temp)\n",
    "    except ValueError as x:\n",
    "        e = None\n",
    "file.close()\n",
    "recipes = pd.concat(temp_recipes, axis = 0)\n",
    "recipes.reset_index(drop = True, inplace = True)\n",
    "recipes['ingredients'] = [recipes.loc[i, 'ingredients'].split('\\n') for i in recipes.index]"
   ]
  }
 ],
 "metadata": {
  "kernelspec": {
   "display_name": "Python 3",
   "language": "python",
   "name": "python3"
  },
  "language_info": {
   "codemirror_mode": {
    "name": "ipython",
    "version": 3
   },
   "file_extension": ".py",
   "mimetype": "text/x-python",
   "name": "python",
   "nbconvert_exporter": "python",
   "pygments_lexer": "ipython3",
   "version": "3.7.6"
  },
  "toc": {
   "base_numbering": 1,
   "nav_menu": {},
   "number_sections": true,
   "sideBar": true,
   "skip_h1_title": false,
   "title_cell": "Table of Contents",
   "title_sidebar": "Contents",
   "toc_cell": false,
   "toc_position": {},
   "toc_section_display": true,
   "toc_window_display": true
  },
  "varInspector": {
   "cols": {
    "lenName": 16,
    "lenType": 16,
    "lenVar": 40
   },
   "kernels_config": {
    "python": {
     "delete_cmd_postfix": "",
     "delete_cmd_prefix": "del ",
     "library": "var_list.py",
     "varRefreshCmd": "print(var_dic_list())"
    },
    "r": {
     "delete_cmd_postfix": ") ",
     "delete_cmd_prefix": "rm(",
     "library": "var_list.r",
     "varRefreshCmd": "cat(var_dic_list()) "
    }
   },
   "types_to_exclude": [
    "module",
    "function",
    "builtin_function_or_method",
    "instance",
    "_Feature"
   ],
   "window_display": true
  }
 },
 "nbformat": 4,
 "nbformat_minor": 4
}
